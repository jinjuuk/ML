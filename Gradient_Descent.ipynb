{
 "cells": [
  {
   "cell_type": "markdown",
   "id": "3843b500-17a4-4311-8dcb-987df10f54ff",
   "metadata": {},
   "source": [
    "# Gradient descent"
   ]
  },
  {
   "cell_type": "code",
   "execution_count": 1,
   "id": "89d1da59-f77a-47a0-a4da-7687bccc0532",
   "metadata": {},
   "outputs": [
    {
     "data": {
      "text/plain": [
       "<matplotlib.collections.PathCollection at 0x23f55a72200>"
      ]
     },
     "execution_count": 1,
     "metadata": {},
     "output_type": "execute_result"
    },
    {
     "data": {
      "image/png": "[encoded data removed]",
      "text/plain": [
       "<Figure size 640x480 with 1 Axes>"
      ]
     },
     "metadata": {},
     "output_type": "display_data"
    }
   ],
   "source": [
    "import numpy as np\n",
    "import matplotlib.pyplot as plt\n",
    "\n",
    "\n",
    "np.random.seed(0)\n",
    "# y = 4X + 6 식을 근사(w1=4, w0=6). random 값은 Noise를 위해 만듬\n",
    "X = 2 * np.random.rand(100,1)#.rand()0과 1사이의 값\n",
    "y = 6 + 4 * X + np.random.randn(100,1) #np.random.randn(100,1) 에러\n",
    "\n",
    "# X, y 데이터 셋 scatter plot으로 시각화\n",
    "plt.scatter(X, y)"
   ]
  },
  {
   "cell_type": "code",
   "execution_count": 2,
   "id": "246fd0a3-1ab4-4167-8dc2-1c17f69313c8",
   "metadata": {},
   "outputs": [
    {
     "data": {
      "text/plain": [
       "((100, 1), (100, 1))"
      ]
     },
     "execution_count": 2,
     "metadata": {},
     "output_type": "execute_result"
    }
   ],
   "source": [
    "X.shape, y.shape"
   ]
  },
  {
   "cell_type": "markdown",
   "id": "10d84295-bd1e-473b-a116-bdaaa67c7c92",
   "metadata": {},
   "source": [
    "\n",
    "\n",
    "* w0과 w1의 값을 최소화 할 수 있도록 업데이트 수행하는 함수 생성\n",
    "\n",
    "* 예측 배열 y_pred는 np.dot(X, w1.T) + w0 임 100개의 데이터 X(1,2,...,100)이 있다면 예측값은 w0 + X(1)w1 + X(2)w1 +..+ X(100)*w1이며, 이는 입력 배열 X와 w1 배열의 내적임.\n",
    "* 새로운 w1과 w0를 update함\n",
    "\n"
   ]
  },
  {
   "cell_type": "code",
   "execution_count": 3,
   "id": "72f8db37-ad69-4a95-80aa-c3aabf73da1c",
   "metadata": {},
   "outputs": [
    {
     "name": "stdout",
     "output_type": "stream",
     "text": [
      "(100, 1)\n",
      "(1, 1) (1, 1)\n"
     ]
    },
    {
     "data": {
      "text/plain": [
       "(array([[0.]]), array([[0.]]))"
      ]
     },
     "execution_count": 3,
     "metadata": {},
     "output_type": "execute_result"
    }
   ],
   "source": [
    "w0 = np.zeros((1,1))\n",
    "w1 = np.zeros((1,1))\n",
    "y_pred = np.dot(X, w1.T) + w0\n",
    "diff = y-y_pred\n",
    "print(diff.shape)\n",
    "w0_factors = np.ones((100,1))\n",
    "w1_update = -(2/100)*0.01*(np.dot(X.T, diff))\n",
    "w0_update = -(2/100)*0.01*(np.dot(w0_factors.T, diff))   \n",
    "print(w1_update.shape, w0_update.shape)\n",
    "w1, w0"
   ]
  },
  {
   "cell_type": "markdown",
   "id": "f0e2c7b7-cd31-4724-82ed-b7bc59c45771",
   "metadata": {},
   "source": [
    "## 반복적으로 경사 하강법을 이용하여 get_weigth_updates()를 호출하여 w1과 w0를 업데이트 하는 함수 생성"
   ]
  },
  {
   "cell_type": "code",
   "execution_count": 4,
   "id": "2696b19a-fec1-4a52-bdc7-45bcbceffa7d",
   "metadata": {},
   "outputs": [],
   "source": [
    "# 입력 인자 iters로 주어진 횟수만큼 반복적으로 w1과 w0를 업데이트 적용함. \n",
    "def gradient_descent_steps(X, y, iters=10000):\n",
    "    # w0와 w1을 모두 0으로 초기화. \n",
    "    w0 = np.zeros((1,1))\n",
    "    w1 = np.zeros((1,1))\n",
    "    \n",
    "    # 인자로 주어진 iters 만큼 반복적으로 get_weight_updates() 호출하여 w1, w0 업데이트 수행. \n",
    "    for ind in range(iters):\n",
    "        w1_update, w0_update = get_weight_updates(w1, w0, X, y, learning_rate=0.01)\n",
    "        w1 = w1 - w1_update\n",
    "        w0 = w0 - w0_update\n",
    "        print(f\"x절편: {w1}, y절편: {w0}\")      \n",
    "    return w1, w0"
   ]
  },
  {
   "cell_type": "markdown",
   "id": "deb70243-c57d-43f8-9550-474eb0942edd",
   "metadata": {},
   "source": [
    "## 예측 오차 비용을 계산을 수행하는 함수 생성 및 경사 하강법 수행"
   ]
  },
  {
   "cell_type": "code",
   "execution_count": 5,
   "id": "d8b9be92-eca0-4236-8d77-8067d38eeaa5",
   "metadata": {},
   "outputs": [
    {
     "ename": "NameError",
     "evalue": "name 'get_weight_updates' is not defined",
     "output_type": "error",
     "traceback": [
      "\u001b[1;31m---------------------------------------------------------------------------\u001b[0m",
      "\u001b[1;31mNameError\u001b[0m                                 Traceback (most recent call last)",
      "Cell \u001b[1;32mIn[5], line 6\u001b[0m\n\u001b[0;32m      3\u001b[0m     cost \u001b[38;5;241m=\u001b[39m np\u001b[38;5;241m.\u001b[39msum(np\u001b[38;5;241m.\u001b[39msquare(y \u001b[38;5;241m-\u001b[39m y_pred))\u001b[38;5;241m/\u001b[39mN\n\u001b[0;32m      4\u001b[0m     \u001b[38;5;28;01mreturn\u001b[39;00m cost\n\u001b[1;32m----> 6\u001b[0m w1, w0 \u001b[38;5;241m=\u001b[39m \u001b[43mgradient_descent_steps\u001b[49m\u001b[43m(\u001b[49m\u001b[43mX\u001b[49m\u001b[43m,\u001b[49m\u001b[43m \u001b[49m\u001b[43my\u001b[49m\u001b[43m,\u001b[49m\u001b[43m \u001b[49m\u001b[43miters\u001b[49m\u001b[38;5;241;43m=\u001b[39;49m\u001b[38;5;241;43m1000\u001b[39;49m\u001b[43m)\u001b[49m\n\u001b[0;32m      7\u001b[0m \u001b[38;5;28mprint\u001b[39m(\u001b[38;5;124m\"\u001b[39m\u001b[38;5;124mw1:\u001b[39m\u001b[38;5;132;01m{0:.3f}\u001b[39;00m\u001b[38;5;124m w0:\u001b[39m\u001b[38;5;132;01m{1:.3f}\u001b[39;00m\u001b[38;5;124m\"\u001b[39m\u001b[38;5;241m.\u001b[39mformat(w1[\u001b[38;5;241m0\u001b[39m,\u001b[38;5;241m0\u001b[39m], w0[\u001b[38;5;241m0\u001b[39m,\u001b[38;5;241m0\u001b[39m]))\n\u001b[0;32m      8\u001b[0m y_pred \u001b[38;5;241m=\u001b[39m w1[\u001b[38;5;241m0\u001b[39m,\u001b[38;5;241m0\u001b[39m] \u001b[38;5;241m*\u001b[39m X \u001b[38;5;241m+\u001b[39m w0\n",
      "Cell \u001b[1;32mIn[4], line 9\u001b[0m, in \u001b[0;36mgradient_descent_steps\u001b[1;34m(X, y, iters)\u001b[0m\n\u001b[0;32m      7\u001b[0m \u001b[38;5;66;03m# 인자로 주어진 iters 만큼 반복적으로 get_weight_updates() 호출하여 w1, w0 업데이트 수행. \u001b[39;00m\n\u001b[0;32m      8\u001b[0m \u001b[38;5;28;01mfor\u001b[39;00m ind \u001b[38;5;129;01min\u001b[39;00m \u001b[38;5;28mrange\u001b[39m(iters):\n\u001b[1;32m----> 9\u001b[0m     w1_update, w0_update \u001b[38;5;241m=\u001b[39m \u001b[43mget_weight_updates\u001b[49m(w1, w0, X, y, learning_rate\u001b[38;5;241m=\u001b[39m\u001b[38;5;241m0.01\u001b[39m)\n\u001b[0;32m     10\u001b[0m     w1 \u001b[38;5;241m=\u001b[39m w1 \u001b[38;5;241m-\u001b[39m w1_update\n\u001b[0;32m     11\u001b[0m     w0 \u001b[38;5;241m=\u001b[39m w0 \u001b[38;5;241m-\u001b[39m w0_update\n",
      "\u001b[1;31mNameError\u001b[0m: name 'get_weight_updates' is not defined"
     ]
    }
   ],
   "source": [
    "def get_cost(y, y_pred):\n",
    "    N = len(y) \n",
    "    cost = np.sum(np.square(y - y_pred))/N\n",
    "    return cost\n",
    "\n",
    "w1, w0 = gradient_descent_steps(X, y, iters=1000)\n",
    "print(\"w1:{0:.3f} w0:{1:.3f}\".format(w1[0,0], w0[0,0]))\n",
    "y_pred = w1[0,0] * X + w0\n",
    "print('Gradient Descent Total Cost:{0:.4f}'.format(get_cost(y, y_pred)))"
   ]
  },
  {
   "cell_type": "code",
   "execution_count": null,
   "id": "9ef24e83-f7f3-4658-9d14-da8b4ffbcd7e",
   "metadata": {},
   "outputs": [],
   "source": [
    "plt.scatter(X, y)\n",
    "plt.plot(X,y_pred, color='red')"
   ]
  },
  {
   "cell_type": "markdown",
   "id": "b7aab53f-9dc6-438b-af04-8a25fc9fc398",
   "metadata": {},
   "source": [
    "# 미니 배치 확률적 경사 하강법을 이용한 최적 비용함수 도출"
   ]
  },
  {
   "cell_type": "code",
   "execution_count": null,
   "id": "8f56904f-5727-455a-b5a9-263a55ff4393",
   "metadata": {},
   "outputs": [],
   "source": [
    "def stochastic_gradient_descent_steps(X, y, batch_size=10, iters=1000):\n",
    "    w0 = np.zeros((1,1))\n",
    "    w1 = np.zeros((1,1))\n",
    "    prev_cost = 100000\n",
    "    iter_index =0\n",
    "    \n",
    "    for ind in range(iters):\n",
    "        np.random.seed(ind)\n",
    "        # 전체 X, y 데이터에서 랜덤하게 batch_size만큼 데이터 추출하여 sample_X, sample_y로 저장\n",
    "        stochastic_random_index = np.random.permutation(X.shape[0])\n",
    "        sample_X = X[stochastic_random_index[0:batch_size]]\n",
    "        sample_y = y[stochastic_random_index[0:batch_size]]\n",
    "        # 랜덤하게 batch_size만큼 추출된 데이터 기반으로 w1_update, w0_update 계산 후 업데이트\n",
    "        w1_update, w0_update = get_weight_updates(w1, w0, sample_X, sample_y, learning_rate=0.01)\n",
    "        w1 = w1 - w1_update\n",
    "        w0 = w0 - w0_update\n",
    "    \n",
    "    return w1, w0"
   ]
  },
  {
   "cell_type": "code",
   "execution_count": null,
   "id": "1d337e2c-1453-4fa0-bc28-eafc36fb1d1e",
   "metadata": {},
   "outputs": [],
   "source": [
    "w1, w0 = stochastic_gradient_descent_steps(X, y, iters=1000)\n",
    "print(\"w1:\",round(w1[0,0],3),\"w0:\",round(w0[0,0],3))\n",
    "y_pred = w1[0,0] * X + w0\n",
    "print('Stochastic Gradient Descent Total Cost:{0:.4f}'.format(get_cost(y, y_pred)))"
   ]
  },
  {
   "cell_type": "markdown",
   "id": "0dcffc7c-e2ab-436e-8831-8307486a82d5",
   "metadata": {},
   "source": [
    "# 회귀분석에서 보스턴 주택 집값 예측"
   ]
  },
  {
   "cell_type": "code",
   "execution_count": 6,
   "id": "c2de55c4-1d4a-48e8-b7c2-d34f7a4db323",
   "metadata": {},
   "outputs": [],
   "source": [
    "import numpy as np\n",
    "import matplotlib.pyplot as plt\n",
    "import pandas as pd\n",
    "import seaborn as sns\n",
    "from scipy import stats\n",
    "import warnings\n",
    "warnings.filterwarnings('ignore')  #사이킷런 1.2 부터는 보스턴 주택가격 데이터가 없어진다는 warning 메시지 출력 제거\n",
    "\n",
    "\n",
    "data_url = \"http://lib.stat.cmu.edu/datasets/boston\"\n",
    "raw_df = pd.read_csv(data_url, sep=\"\\s+\", skiprows=22, header=None)\n",
    "data = np.hstack([raw_df.values[::2, :], raw_df.values[1::2, :2]])\n",
    "target = raw_df.values[1::2, 2]\n"
   ]
  },
  {
   "cell_type": "code",
   "execution_count": 7,
   "id": "f3d9a00c-5cee-4085-8e65-0041f46d434c",
   "metadata": {},
   "outputs": [
    {
     "data": {
      "text/plain": [
       "(506, 13)"
      ]
     },
     "execution_count": 7,
     "metadata": {},
     "output_type": "execute_result"
    }
   ],
   "source": [
    "data.shape"
   ]
  },
  {
   "cell_type": "code",
   "execution_count": 8,
   "id": "ddb7d748-1dd3-4e77-9c59-e035557b305b",
   "metadata": {},
   "outputs": [
    {
     "data": {
      "text/plain": [
       "(506,)"
      ]
     },
     "execution_count": 8,
     "metadata": {},
     "output_type": "execute_result"
    }
   ],
   "source": [
    "target.shape"
   ]
  },
  {
   "cell_type": "code",
   "execution_count": 9,
   "id": "bccdc29b-94e3-49eb-b1e0-14608c4a2413",
   "metadata": {},
   "outputs": [],
   "source": [
    "X = data\n",
    "y = target"
   ]
  },
  {
   "cell_type": "code",
   "execution_count": 10,
   "id": "f4681d0a-aad5-422d-b848-e3c1253fa784",
   "metadata": {},
   "outputs": [],
   "source": [
    "from sklearn.model_selection import train_test_split\n",
    "\n",
    "X_train , X_test , y_train , y_test = train_test_split(X , y ,test_size=0.3, random_state=156)"
   ]
  },
  {
   "cell_type": "code",
   "execution_count": 11,
   "id": "0b52c427-f2f5-4491-aa63-2c267f83b395",
   "metadata": {},
   "outputs": [
    {
     "name": "stdout",
     "output_type": "stream",
     "text": [
      "[[2.19770e-01 0.00000e+00 6.91000e+00 ... 1.79000e+01 3.96900e+02\n",
      "  1.62000e+01]\n",
      " [7.25800e-01 0.00000e+00 8.14000e+00 ... 2.10000e+01 3.90950e+02\n",
      "  1.12800e+01]\n",
      " [5.34120e-01 2.00000e+01 3.97000e+00 ... 1.30000e+01 3.88370e+02\n",
      "  7.26000e+00]\n",
      " ...\n",
      " [7.35341e+01 0.00000e+00 1.81000e+01 ... 2.02000e+01 1.64500e+01\n",
      "  2.06200e+01]\n",
      " [2.00900e-02 9.50000e+01 2.68000e+00 ... 1.47000e+01 3.90550e+02\n",
      "  2.88000e+00]\n",
      " [1.22690e-01 0.00000e+00 6.91000e+00 ... 1.79000e+01 3.89390e+02\n",
      "  9.55000e+00]]\n",
      "\n",
      "[19.4 18.2 43.1 23.9 22.8 17.2 27.1 30.7 39.8 13.1 17.9 20.  23.1  8.8\n",
      " 31.1 31.6 16.6 20.9 29.8 14.9 50.  21.7 21.  29.1 22.2 20.4 29.4 23.\n",
      " 31.5 17.1 23.6 18.8 22.9 19.9 17.4 17.4 15.  32.9  8.4 24.8 22.9 10.2\n",
      " 15.  27.5 25.   8.7 30.5 26.6 18.9 20.7 23.1 23.2 33.  50.  18.5 19.8\n",
      " 14.1 22.7 50.  19.8 24.8 24.4 20.5 24.3 22.6 13.1 21.7 20.2 19.9 23.7\n",
      " 24.5 44.8 16.6  7.5 19.4 15.2 16.3 13.2 50.  44.  27.  20.1 22.   8.3\n",
      " 13.8 18.4 22.4 21.  32.2 24.4 15.7 37.2 16.7 22.8 19.2 23.8 20.  12.3\n",
      " 18.  19.5 25.2 16.4 17.  15.6 20.7 24.7 14.5 41.3 30.1 20.6 12.1 24.3\n",
      " 24.  14.6 23.  11.5 23.5 19.1 19.1 14.1 22.3 19.6 23.3 27.9 13.8 21.2\n",
      " 42.3 33.2 37.6 19.3 22.  31.  36.1 17.2 18.9 13.3 13.8 20.3 20.4 21.2\n",
      " 26.6 16.  20.5 18.7 24.7 32.4 28.1 18.7 21.6 11.9 12.7 22.6 22.1 28.5\n",
      " 21.7 34.9 10.2 23.9 20.1 18.3 18.2 28.4 21.7  8.3 18.6 10.8 19.3 17.1\n",
      " 50.  22.6 12.  50.  14.9 13.4 17.3 15.6 34.6 21.9 17.8 25.  16.2 16.2\n",
      " 22.9 29.6 26.4 16.1 14.5 16.5 17.4 29.8 24.3 23.7 13.9 31.6 24.5 50.\n",
      " 15.4 19.4 21.9 28.7 10.5 13.6 22.3 41.7 23.1 17.8 31.2 35.4 13.1 43.8\n",
      " 25.  50.  33.8 50.  23.  21.1 20.  13.1 21.4 18.8 27.5 48.8 11.8 15.1\n",
      " 25.  13.3 24.1 21.6 22.5 25.  42.8 22.2 50.  31.5 26.2 21.7 23.1 19.6\n",
      " 34.9 30.1 20.8 22.9 13.5 14.6 24.8 33.1 22.8 22.2 27.1 20.5 17.6 33.2\n",
      " 50.  24.1 37.3  8.5 25.3 19.6 21.1 14.4 23.9 23.7 16.1 10.4 23.  28.\n",
      " 19.2 24.2 13.5 24.4 14.9 15.6 23.2 22.  48.5  5.6 19.8 18.3 11.  10.2\n",
      "  5.  36.2  7.4 22.5 19.3 46.  15.4 14.8 15.6 23.8 19.3 23.3 26.5 24.5\n",
      "  6.3 13.6 21.4 14.2 18.4 26.4 50.  13.8 19.  19.6 45.4 37.9 13.  13.9\n",
      " 17.8 14.1 19.5 22.  20.8 23.8 27.5 26.6 24.6 18.9 17.5 20.1 20.4 28.7\n",
      " 36.2  8.1 14.  10.9 50.  21.7 27.9  9.6 22.8 17.7 23.2 22.2 37.  14.3\n",
      " 19.  19.9 14.4 23.8 35.1 17.8 35.4 36.  22.4 17.8 18.5 15.  29.  25.\n",
      " 21.2  8.8 50.  21.2]\n"
     ]
    }
   ],
   "source": [
    "print(X_train)\n",
    "print()\n",
    "print(y_train)\n"
   ]
  },
  {
   "cell_type": "code",
   "execution_count": 13,
   "id": "2e413b99-885c-4556-be78-55fa6de87b6b",
   "metadata": {},
   "outputs": [
    {
     "data": {
      "text/plain": [
       "array([23.15424087, 19.65590246, 36.42005168, 19.96705124, 32.40150641,\n",
       "       17.66341192, 30.32844101, 17.8513932 , 10.86187069, 12.83177966,\n",
       "       21.18350434, 16.41212257, 28.66817527, 37.01110952, 23.42172197,\n",
       "       24.56906089, 14.55434775, 11.51023436, 30.27784089, 23.48027467,\n",
       "       22.86210577, 17.61623753, 21.2528808 , 17.29802868, 34.06118291,\n",
       "        7.19879841, 13.39928425, 19.4234468 , 13.2423286 ,  8.3336837 ,\n",
       "       29.34933073, 11.83768837, 19.84125562, 23.97623235, 16.34351261,\n",
       "       13.20973749, 14.3352014 , 17.26323753, 17.37091562, 23.84644351,\n",
       "       32.8390912 ,  9.3866759 , 19.06694335, -3.98840206, 19.87721947,\n",
       "       21.26003361, 24.17775745, 35.35923599, 20.32415303, 28.23212889,\n",
       "       32.67560962, 40.83910565, 41.19126206, 19.78588457, 25.0134137 ,\n",
       "       24.13111046, 19.62715719, 33.49344219, 23.61402811, 15.31513017,\n",
       "       22.70657074, 25.78436589, 23.99723589,  8.78013424, 21.81929237,\n",
       "       39.68193998, 32.8907251 , 30.20417723, 14.35610647, 23.56129992,\n",
       "       13.6987184 , 32.17099211, 36.43647957, 27.41243794, 21.43887413,\n",
       "       29.94548936, 20.80737308, 26.76489459, 23.19924205, 18.7295963 ,\n",
       "       30.4434358 , 17.92366103, 19.96350973, 22.90321583, 30.35722286,\n",
       "       19.1416058 , 34.82981423, 35.95421976, 21.08435113, 28.16227294,\n",
       "       33.9844885 , 13.09683348, 25.83254741, 28.31598334, 24.09461934,\n",
       "       26.53533695, 13.78463019, 27.52845855, 30.96700768, 22.15390363,\n",
       "       27.52458794, 20.92341491, 12.20099558, 16.86757413, 23.1869979 ,\n",
       "       25.27201058, 24.87600819, 29.56220534, 14.39300773, 23.74503763,\n",
       "       23.00928065, 27.59611128, 14.63924951, 19.88668982, 20.77437658,\n",
       "       36.65236819, 24.34502539, 11.00066258, 17.85805638, 31.97402161,\n",
       "       31.8757576 , 23.05268046, 27.47026659, 34.21658142, 21.45953092,\n",
       "       25.732922  ,  8.82822141, 16.45252491, 24.54156705, 30.71990499,\n",
       "       20.78378788, 19.29671324, 34.96155332, 20.95681683, 35.98751661,\n",
       "       22.43270522, 19.44758239, 18.41029637, 19.11220591, 23.80294646,\n",
       "       23.17652339, 19.34566115, 14.73400581, 15.68343526, 35.65243238,\n",
       "       21.07768237, 29.71070004, 21.10104869, 24.5559244 , 24.09374799,\n",
       "       18.47882862, 31.83335094])"
      ]
     },
     "execution_count": 13,
     "metadata": {},
     "output_type": "execute_result"
    }
   ],
   "source": [
    "from sklearn.linear_model import LinearRegression\n",
    "\n",
    "lr = LinearRegression()\n",
    "lr.fit(X_train, y_train)\n",
    "pred = lr.predict(X_test)\n",
    "pred"
   ]
  },
  {
   "cell_type": "code",
   "execution_count": 14,
   "id": "f4741076-e721-4126-b445-a492892fb794",
   "metadata": {},
   "outputs": [
    {
     "data": {
      "text/plain": [
       "40.995595172164236"
      ]
     },
     "execution_count": 14,
     "metadata": {},
     "output_type": "execute_result"
    }
   ],
   "source": [
    "#다중회귀 y 절편\n",
    "lr.intercept_"
   ]
  },
  {
   "cell_type": "code",
   "execution_count": 15,
   "id": "b5b3ec0e-0d7f-4d59-8178-5b2ae2293481",
   "metadata": {},
   "outputs": [
    {
     "data": {
      "text/plain": [
       "array([-1.12979614e-01,  6.55124002e-02,  3.44366694e-02,  3.04589777e+00,\n",
       "       -1.97958320e+01,  3.35496880e+00,  5.93713290e-03, -1.74185354e+00,\n",
       "        3.55884364e-01, -1.42954516e-02, -9.20180066e-01,  1.03966156e-02,\n",
       "       -5.66182106e-01])"
      ]
     },
     "execution_count": 15,
     "metadata": {},
     "output_type": "execute_result"
    }
   ],
   "source": [
    "#다중회귀 기울기\n",
    "lr.coef_"
   ]
  },
  {
   "cell_type": "code",
   "execution_count": 16,
   "id": "db9da8c3-b7bb-4fac-a900-6d5094880047",
   "metadata": {},
   "outputs": [],
   "source": [
    "X_rm = np.round(X_train[:,[5]])\n"
   ]
  },
  {
   "cell_type": "code",
   "execution_count": 17,
   "id": "88351d29-51b0-4bd9-8a83-6c43ce15accd",
   "metadata": {},
   "outputs": [
    {
     "data": {
      "text/plain": [
       "array([20.46248403, 19.40428355, 30.92691106, 24.1997794 , 26.89567112,\n",
       "       23.61189024, 22.15896418, 15.28905944, 12.70234714, 20.5968587 ,\n",
       "       24.86325431, 19.82420438, 25.88786113, 39.6696627 , 21.05877161,\n",
       "       24.00661582, 28.92808792, 18.38807515, 25.62751022, 20.83201436,\n",
       "       22.72165809, 20.17693787, 18.33768465, 18.67362131, 28.78531484,\n",
       "        9.47735518, 21.6634576 , 12.17324689, 17.48104616, 15.8769486 ,\n",
       "       25.75348646, 24.6532939 , 20.37010145, 20.99158428, 22.54529134,\n",
       "       26.08102471, 16.90155542, 26.31618037, 18.35448148, 23.53630449,\n",
       "       30.09546782, 24.44333348, 25.37555772,  8.36036578, 24.61130181,\n",
       "       20.48767928, 28.83570534, 34.95815101, 22.7300565 , 22.88962642,\n",
       "       25.79547855, 40.08958352, 35.93236733, 26.29938354, 26.90406953,\n",
       "       23.80505382, 24.95563689, 32.65698487, 21.97419901, 17.1451095 ,\n",
       "       19.74022021, 25.13200364, 22.85603275, 14.72636553, 18.79959756,\n",
       "       33.14409303, 30.6917554 , 22.57048659, 27.71871594, 20.68084286,\n",
       "       18.75760547, 25.8710643 , 31.6071828 , 24.0989984 , 19.14393264,\n",
       "       31.22085564, 19.68982971, 27.46676344, 21.05037319, 22.90642325,\n",
       "       30.75054431, 21.22673994, 23.53630449, 19.70662654, 25.98864213,\n",
       "       21.47869244, 27.97066843, 27.73551277, 21.57107502, 26.49254712,\n",
       "       27.92867635, 23.98981899, 20.38689829, 29.18004042, 23.20036783,\n",
       "       23.3347425 , 17.66581132, 25.99704054, 29.86031216, 20.00057112,\n",
       "       24.3005604 , 21.82302752, 16.21288526, 20.26092204, 21.8650196 ,\n",
       "       24.01501424, 19.79061071, 23.69587441, 15.6753866 , 22.27654201,\n",
       "       19.88299329, 25.09001156, 17.96815432, 18.34608306, 27.46676344,\n",
       "       32.7241722 , 21.70544968, 17.69940499, 19.42108038, 25.97184529,\n",
       "       25.52672922, 25.10680839, 19.85779804, 27.36598244, 21.74744177,\n",
       "       21.8650196 , 18.13612265, 27.0888347 , 20.23572679, 26.09782154,\n",
       "       19.83260279, 19.03475322, 30.75054431, 21.02517794, 35.00014309,\n",
       "       21.29392727, 18.38807515, 21.40310669, 17.17870316, 17.20389841,\n",
       "       21.80623068, 19.54705663, 17.74979549, 20.91599853, 38.17474455,\n",
       "       12.50078514, 24.29216198, 22.41931509, 24.41813823, 20.78162386,\n",
       "       23.67907757, 28.02105893])"
      ]
     },
     "execution_count": 17,
     "metadata": {},
     "output_type": "execute_result"
    }
   ],
   "source": [
    "lr = LinearRegression()\n",
    "lr.fit(X_rm, y_train)\n",
    "pred = lr.predict(X_test[:,[5]])\n",
    "pred"
   ]
  },
  {
   "cell_type": "code",
   "execution_count": 18,
   "id": "330e0fbb-ae1a-40d7-9ea4-c65829e037d2",
   "metadata": {},
   "outputs": [
    {
     "data": {
      "text/plain": [
       "-29.592078633847343"
      ]
     },
     "execution_count": 18,
     "metadata": {},
     "output_type": "execute_result"
    }
   ],
   "source": [
    "#선형회귀 y 절편\n",
    "lr.intercept_"
   ]
  },
  {
   "cell_type": "code",
   "execution_count": 19,
   "id": "4732c8ee-0453-475b-aad3-5e5a888fa5e2",
   "metadata": {},
   "outputs": [
    {
     "data": {
      "text/plain": [
       "array([8.39841656])"
      ]
     },
     "execution_count": 19,
     "metadata": {},
     "output_type": "execute_result"
    }
   ],
   "source": [
    "#선형회귀 기울기\n",
    "lr.coef_"
   ]
  },
  {
   "cell_type": "code",
   "execution_count": 20,
   "id": "1b49e1cf-022b-4352-b648-17f3ddefa691",
   "metadata": {},
   "outputs": [],
   "source": [
    "from sklearn.metrics import mean_squared_error, r2_score, mean_absolute_error"
   ]
  },
  {
   "cell_type": "code",
   "execution_count": 21,
   "id": "f73e614f-ebd8-43d7-9fab-32d8e7f5d3ce",
   "metadata": {},
   "outputs": [
    {
     "data": {
      "text/plain": [
       "35.43276154614645"
      ]
     },
     "execution_count": 21,
     "metadata": {},
     "output_type": "execute_result"
    }
   ],
   "source": [
    "mean_squared_error(y_test, pred)"
   ]
  },
  {
   "cell_type": "code",
   "execution_count": 22,
   "id": "4fb66111-806c-4959-849b-6c99a65794c9",
   "metadata": {},
   "outputs": [
    {
     "data": {
      "text/plain": [
       "4.058049278828864"
      ]
     },
     "execution_count": 22,
     "metadata": {},
     "output_type": "execute_result"
    }
   ],
   "source": [
    "mean_absolute_error(y_test, pred)"
   ]
  },
  {
   "cell_type": "code",
   "execution_count": 23,
   "id": "43c9fbb2-7edc-460b-835b-2c8debda9db5",
   "metadata": {},
   "outputs": [
    {
     "data": {
      "text/plain": [
       "0.5026777303764689"
      ]
     },
     "execution_count": 23,
     "metadata": {},
     "output_type": "execute_result"
    }
   ],
   "source": [
    "r2_score(y_test, pred)"
   ]
  },
  {
   "cell_type": "markdown",
   "id": "0a2d00bf-8334-4e2b-a9dc-fcc833ee657f",
   "metadata": {},
   "source": [
    "# 다중회귀로 cross validation 적용하기"
   ]
  },
  {
   "cell_type": "code",
   "execution_count": 26,
   "id": "887e3d9c-860c-4eb8-9a48-a767d179c26f",
   "metadata": {},
   "outputs": [
    {
     "data": {
      "text/plain": [
       "array([-12.46030057, -26.04862111, -33.07413798, -80.76237112,\n",
       "       -33.31360656])"
      ]
     },
     "execution_count": 26,
     "metadata": {},
     "output_type": "execute_result"
    }
   ],
   "source": [
    "from sklearn.model_selection import cross_val_score\n",
    "\n",
    "neg_scores = cross_val_score(lr, X, y, scoring='neg_mean_squared_error', n_jobs=-1, cv=5)\n",
    "neg_scores"
   ]
  },
  {
   "cell_type": "code",
   "execution_count": 28,
   "id": "f8c9dc9b-cdc2-4dc1-9fef-19021b897f75",
   "metadata": {},
   "outputs": [
    {
     "data": {
      "text/plain": [
       "5.828658946215815"
      ]
     },
     "execution_count": 28,
     "metadata": {},
     "output_type": "execute_result"
    }
   ],
   "source": [
    "#RMSE는 -1값을 원래의 평자 지표에 곱해서 음수를 만들어 작은 오류 값이 더 큰 숫자로 인식하게 한다.\n",
    "np.mean(np.sqrt(neg_scores*-1))"
   ]
  },
  {
   "cell_type": "markdown",
   "id": "b8fa7d8b-b509-4ee8-a946-1e2f4caf6bd8",
   "metadata": {},
   "source": [
    "# Polynomial features 다항회귀 "
   ]
  },
  {
   "cell_type": "code",
   "execution_count": 29,
   "id": "9119ea6e-f75e-46a8-b6e2-b6b1031303bc",
   "metadata": {},
   "outputs": [],
   "source": [
    "from sklearn.preprocessing import PolynomialFeatures"
   ]
  },
  {
   "cell_type": "code",
   "execution_count": 31,
   "id": "2905600a-c886-4b8c-a093-354be971d1ab",
   "metadata": {},
   "outputs": [
    {
     "data": {
      "text/plain": [
       "array([[0, 1],\n",
       "       [2, 3]])"
      ]
     },
     "execution_count": 31,
     "metadata": {},
     "output_type": "execute_result"
    }
   ],
   "source": [
    "X = np.arange(4).reshape(2,2)\n",
    "X"
   ]
  },
  {
   "cell_type": "code",
   "execution_count": 34,
   "id": "49a8b654-2c30-4e19-aa6c-c54aa5ba09ae",
   "metadata": {},
   "outputs": [],
   "source": [
    "poly = PolynomialFeatures(degree=2)\n",
    "ploy_ftr = poly.fit_transform(X)"
   ]
  },
  {
   "cell_type": "code",
   "execution_count": 35,
   "id": "f8e3ee7a-a44c-4f2f-9065-317a37c86948",
   "metadata": {},
   "outputs": [
    {
     "data": {
      "text/plain": [
       "array([[1., 0., 1., 0., 0., 1.],\n",
       "       [1., 2., 3., 4., 6., 9.]])"
      ]
     },
     "execution_count": 35,
     "metadata": {},
     "output_type": "execute_result"
    }
   ],
   "source": [
    "ploy_ftr"
   ]
  },
  {
   "cell_type": "code",
   "execution_count": 36,
   "id": "7c7cf721-625f-48ac-be3e-31b2104f74fc",
   "metadata": {},
   "outputs": [
    {
     "name": "stdout",
     "output_type": "stream",
     "text": [
      "일차 단항식 계수 feature: \n",
      " [[0 1]\n",
      " [2 3]]\n",
      "[0 2]\n",
      "[1 3]\n",
      "삼차 다항식 결정값: \n",
      " [  5 125]\n"
     ]
    }
   ],
   "source": [
    "def polynomial_func(X):\n",
    "    y = 1 + 2*X[:,0] + 3*X[:,0]**2 + 4*X[:,1]**3\n",
    "    print(X[:, 0])\n",
    "    print(X[:, 1])\n",
    "    return y\n",
    "\n",
    "X = np.arange(0,4).reshape(2,2)\n",
    "\n",
    "print('일차 단항식 계수 feature: \\n' ,X)\n",
    "y = polynomial_func(X)\n",
    "print('삼차 다항식 결정값: \\n', y)"
   ]
  },
  {
   "cell_type": "code",
   "execution_count": 37,
   "id": "e7a31774-3ce5-4211-a00d-b439b232fe08",
   "metadata": {},
   "outputs": [
    {
     "name": "stdout",
     "output_type": "stream",
     "text": [
      "3차 다항식 계수 feature: \n",
      " [[ 1.  0.  1.  0.  0.  1.  0.  0.  0.  1.]\n",
      " [ 1.  2.  3.  4.  6.  9.  8. 12. 18. 27.]]\n",
      "Polynomial 회귀 계수\n",
      " [0.   0.18 0.18 0.36 0.54 0.72 0.72 1.08 1.62 2.34]\n",
      "Polynomial 회귀 Shape : (10,)\n"
     ]
    }
   ],
   "source": [
    "# 3 차 다항식 변환 \n",
    "poly_ftr = PolynomialFeatures(degree=3).fit_transform(X)\n",
    "print('3차 다항식 계수 feature: \\n',poly_ftr)\n",
    "\n",
    "# Linear Regression에 3차 다항식 계수 feature와 3차 다항식 결정값으로 학습 후 회귀 계수 확인\n",
    "model = LinearRegression()\n",
    "model.fit(poly_ftr,y)\n",
    "print('Polynomial 회귀 계수\\n' , np.round(model.coef_, 2))\n",
    "print('Polynomial 회귀 Shape :', model.coef_.shape)"
   ]
  },
  {
   "cell_type": "markdown",
   "id": "ef8bd2dd-f1f0-487f-9a88-d18c1a6943b6",
   "metadata": {},
   "source": [
    "# 사이킷런 파이프라인(Pipeline)을 이용하여 3차 다항회귀 학습\n",
    "\n",
    "* 사이킷런의 Pipeline 객체는 Feature 엔지니어링 변환과 모델 학습/예측을 순차적으로 결합해줍니다.\n"
   ]
  },
  {
   "cell_type": "code",
   "execution_count": 42,
   "id": "0678ca4d-0765-4be0-87f7-0bc9ad5f30a8",
   "metadata": {},
   "outputs": [
    {
     "name": "stdout",
     "output_type": "stream",
     "text": [
      "Polynomial 회귀 계수\n",
      " [0.   0.18 0.18 0.36 0.54 0.72 0.72 1.08 1.62 2.34]\n"
     ]
    }
   ],
   "source": [
    "from sklearn.preprocessing import PolynomialFeatures\n",
    "from sklearn.linear_model import LinearRegression\n",
    "from sklearn.pipeline import Pipeline\n",
    "import numpy as np\n",
    "\n",
    "def polynomial_func(X):\n",
    "    y = 1 + 2*X[:,0] + 3*X[:,0]**2 + 4*X[:,1]**3 \n",
    "    return y\n",
    "\n",
    "# Pipeline 객체로 Streamline 하게 Polynomial Feature변환과 Linear Regression을 연결\n",
    "model = Pipeline([('poly', PolynomialFeatures(degree=3)),\n",
    "                  ('linear', LinearRegression())])\n",
    "X = np.arange(4).reshape(2,2)\n",
    "y = polynomial_func(X)\n",
    "\n",
    "model = model.fit(X, y)\n",
    "print('Polynomial 회귀 계수\\n', np.round(model.named_steps['linear'].coef_, 2))"
   ]
  },
  {
   "cell_type": "markdown",
   "id": "c2a61e0d-ffc0-4db4-b2c4-3b2f3b190861",
   "metadata": {},
   "source": [
    "# 다항 회귀를 이용한 과소적합 및 과적합 이해\n",
    "\n",
    "* cosine 곡선에 약간의 Noise 변동값을 더하여 실제값 곡선을 만듬\n"
   ]
  },
  {
   "cell_type": "code",
   "execution_count": 43,
   "id": "c296e412-bf28-4680-a038-e4f3114e6a2d",
   "metadata": {},
   "outputs": [],
   "source": [
    "import numpy as np\n",
    "import matplotlib.pyplot as plt\n",
    "from sklearn.pipeline import Pipeline\n",
    "from sklearn.preprocessing import PolynomialFeatures\n",
    "from sklearn.linear_model import LinearRegression\n",
    "from sklearn.model_selection import cross_val_score\n",
    "\n",
    "\n",
    "# 임의의 값으로 구성된 X값에 대해 코사인 변환 값을 반환.\n",
    "def true_fun(X):\n",
    "    return np.cos(1.5 * np.pi * X)\n",
    "\n",
    "# X는 0부터 1까지 30개의 임의의 값을 순서대로 샘플링한 데이터입니다.\n",
    "np.random.seed(0)\n",
    "n_samples = 30\n",
    "X = np.sort(np.random.rand(n_samples))\n",
    "\n",
    "# y 값은 코사인 기반의 true_fun()에서 약간의 노이즈 변동 값을 더한 값입니다.\n",
    "y = true_fun(X) + np.random.randn(n_samples) * 0.1"
   ]
  },
  {
   "cell_type": "code",
   "execution_count": 44,
   "id": "02744c7e-133c-4558-876d-c30bf774bcef",
   "metadata": {},
   "outputs": [
    {
     "data": {
      "text/plain": [
       "<matplotlib.collections.PathCollection at 0x23f7d5c7d90>"
      ]
     },
     "execution_count": 44,
     "metadata": {},
     "output_type": "execute_result"
    },
    {
     "data": {
      "image/png": "[encoded data removed]",
      "text/plain": [
       "<Figure size 640x480 with 1 Axes>"
      ]
     },
     "metadata": {},
     "output_type": "display_data"
    }
   ],
   "source": [
    "plt.scatter(X, y)"
   ]
  },
  {
   "cell_type": "code",
   "execution_count": 51,
   "id": "038cbdff-2e20-4ee6-bc8a-ba673f7a68d9",
   "metadata": {},
   "outputs": [
    {
     "name": "stdout",
     "output_type": "stream",
     "text": [
      "\n",
      "Degree 1 회귀 계수는 [-1.61] 입니다.\n",
      "Degree 1 MSE 는 0.4077289625098685 입니다.\n",
      "\n",
      "Degree 4 회귀 계수는 [  0.47 -17.79  23.59  -7.26] 입니다.\n",
      "Degree 4 MSE 는 0.04320874987232012 입니다.\n",
      "\n",
      "Degree 15 회귀 계수는 [-2.98293000e+03  1.03899460e+05 -1.87416299e+06  2.03716455e+07\n",
      " -1.44873481e+08  7.09316469e+08 -2.47066221e+09  6.24562239e+09\n",
      " -1.15676749e+10  1.56895282e+10 -1.54006385e+10  1.06457529e+10\n",
      " -4.91378818e+09  1.35920019e+09 -1.70381277e+08] 입니다.\n",
      "Degree 15 MSE 는 182089952.20056242 입니다.\n"
     ]
    },
    {
     "data": {
      "image/png": "[encoded data removed]",
      "text/plain": [
       "<Figure size 1400x500 with 3 Axes>"
      ]
     },
     "metadata": {},
     "output_type": "display_data"
    }
   ],
   "source": [
    "plt.figure(figsize=(14, 5))\n",
    "degrees = [1, 4, 15]\n",
    "\n",
    "# 다항 회귀의 차수(degree)를 1, 4, 15로 각각 변화시키면서 비교합니다.\n",
    "for i in range(len(degrees)):\n",
    "    ax = plt.subplot(1, len(degrees), i + 1)\n",
    "    plt.setp(ax, xticks=(), yticks=())\n",
    "    \n",
    "    # 개별 degree별로 Polynomial 변환합니다.\n",
    "    polynomial_features = PolynomialFeatures(degree=degrees[i], include_bias=False)\n",
    "    linear_regression = LinearRegression()\n",
    "    pipeline = Pipeline([(\"polynomial_features\", polynomial_features),\n",
    "                         (\"linear_regression\", linear_regression)])\n",
    "    pipeline.fit(X.reshape(-1, 1), y)\n",
    "    \n",
    "    # 교차 검증으로 다항 회귀를 평가합니다.\n",
    "    scores = cross_val_score(pipeline, X.reshape(-1, 1), y, scoring=\"neg_mean_squared_error\", cv=10)\n",
    "    # Pipeline을 구성하는 세부 객체를 접근하는 named_steps['객체명']을 이용해 회귀계수 추출\n",
    "    coefficients = pipeline.named_steps['linear_regression'].coef_\n",
    "    print('\\nDegree {0} 회귀 계수는 {1} 입니다.'.format(degrees[i], np.round(coefficients, 2)))\n",
    "    print('Degree {0} MSE 는 {1} 입니다.'.format(degrees[i], -1*np.mean(scores)))\n",
    "          \n",
    "    # 0 부터 1까지 테스트 데이터 세트를 100개로 나눠 예측을 수행합니다.\n",
    "    # 테스트 데이터 세트에 회귀 예측을 수행하고 예측 곡선과 실제 곡선을 그려서 비교합니다.\n",
    "    X_test = np.linspace(0, 1, 100)\n",
    "    # 예측값 곡선\n",
    "    plt.plot(X_test, pipeline.predict(X_test[:, np.newaxis]), label=\"Model\")\n",
    "    # 실제 값 곡선\n",
    "    plt.plot(X_test, true_fun(X_test), '--', label=\"True function\")\n",
    "    plt.scatter(X, y, edgecolor='b', s=20, label=\"Samples\")\n",
    "    plt.xlabel(\"x\"); plt.ylabel(\"y\"); plt.xlim((0, 1)); plt.ylim((-2, 2)); plt.legend(loc=\"best\")\n",
    "    plt.title(\"Degree {}\\nMSE = {:.2e}(+/- {:.2e})\".format(degrees[i], -scores.mean(), scores.std()))\n",
    "    \n",
    "plt.show()"
   ]
  },
  {
   "cell_type": "code",
   "execution_count": null,
   "id": "19b93931-384f-44be-a75a-bcbf01ad7c50",
   "metadata": {},
   "outputs": [],
   "source": []
  }
 ],
 "metadata": {
  "kernelspec": {
   "display_name": "Python 3 (ipykernel)",
   "language": "python",
   "name": "python3"
  },
  "language_info": {
   "codemirror_mode": {
    "name": "ipython",
    "version": 3
   },
   "file_extension": ".py",
   "mimetype": "text/x-python",
   "name": "python",
   "nbconvert_exporter": "python",
   "pygments_lexer": "ipython3",
   "version": "3.10.11"
  }
 },
 "nbformat": 4,
 "nbformat_minor": 5
}
