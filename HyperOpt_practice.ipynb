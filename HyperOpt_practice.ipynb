{
 "cells": [
  {
   "cell_type": "code",
   "execution_count": 62,
   "id": "0b506cfc-1c4c-4871-a4ad-e9d371cb7992",
   "metadata": {},
   "outputs": [],
   "source": [
    "from hyperopt import hp, fmin, tpe, Trials\n",
    "import numpy as np"
   ]
  },
  {
   "cell_type": "code",
   "execution_count": 60,
   "id": "0b490207-18c3-4360-9068-28103f747854",
   "metadata": {},
   "outputs": [],
   "source": [
    "abc_search_space = {'a': hp.uniform('a', -5, 5),\n",
    "                   'b': hp.uniform('b', -10,10),\n",
    "                   'c': hp.quniform('c',1,10,1),}\n",
    "\n",
    "def objective_func(abc_search_space):\n",
    "    a = abc_search_space['a']\n",
    "    b = abc_search_space['b']\n",
    "    c = abc_search_space['c']\n",
    "    y = ((a**3) - (4*b**2) + (3*c))\n",
    "    return y"
   ]
  },
  {
   "cell_type": "code",
   "execution_count": 61,
   "id": "e4b6ea20-6fc0-45e1-9988-b5d919f90ed2",
   "metadata": {},
   "outputs": [
    {
     "name": "stdout",
     "output_type": "stream",
     "text": [
      "100%|██████████████████████████████████████████| 10000/10000 [51:56<00:00,  3.21trial/s, best loss: -521.9833496606149]\n",
      "{'a': -4.999821577447143, 'b': 9.999959135848577, 'c': 1.0}\n"
     ]
    }
   ],
   "source": [
    "trial_val = Trials()\n",
    "\n",
    "best = fmin(fn=objective_func,\n",
    "           space = abc_search_space,\n",
    "           algo=tpe.suggest,\n",
    "           max_evals=10000,\n",
    "           trials=trial_val,\n",
    "           rstate=np.random.default_rng(seed=9))\n",
    "\n",
    "print(best)"
   ]
  },
  {
   "cell_type": "code",
   "execution_count": null,
   "id": "eadfe8f9-88b3-4d32-98ad-fe9f81a13fcd",
   "metadata": {},
   "outputs": [],
   "source": []
  }
 ],
 "metadata": {
  "kernelspec": {
   "display_name": "Python 3 (ipykernel)",
   "language": "python",
   "name": "python3"
  },
  "language_info": {
   "codemirror_mode": {
    "name": "ipython",
    "version": 3
   },
   "file_extension": ".py",
   "mimetype": "text/x-python",
   "name": "python",
   "nbconvert_exporter": "python",
   "pygments_lexer": "ipython3",
   "version": "3.10.11"
  }
 },
 "nbformat": 4,
 "nbformat_minor": 5
}
