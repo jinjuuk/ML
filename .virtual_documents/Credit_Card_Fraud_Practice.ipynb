


import numpy as np 
import pandas as pd 
import matplotlib.pyplot as plt
import matplotlib
import warnings

df = pd.read_csv('./credit_card_default/creditcard.csv')
df.head()


df.describe()


df.info()





X = df.iloc[:,:-1]
y = df['Class']


# 종속변수의 분포도 확인
y.value_counts()


(y.value_counts()/len(y))*100





from sklearn.model_selection import train_test_split
X_train, X_test, y_train, y_test = train_test_split(X,y, test_size=0.2, stratify=y, random_state=123)



#분할된 y 값의 분포가 어떻게 되는지 확인
(y_train.value_counts()/len(y_train))*100


(y_test.value_counts()/len(y_test))*100





from sklearn.tree import DecisionTreeClassifier
from lightgbm import LGBMClassifier
from sklearn.metrics import accuracy_score, f1_score, confusion_matrix, precision_score, recall_score
dt_model = DecisionTreeClassifier()
dt_model = dt_model.fit(X_train, y_train)
dt_yhat = dt_model.predict(X_test)

