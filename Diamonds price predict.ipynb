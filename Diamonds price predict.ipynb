{
 "cells": [
  {
   "cell_type": "code",
   "execution_count": 1,
   "id": "cc927103-4abe-49c2-b2da-b675cc8ed621",
   "metadata": {},
   "outputs": [],
   "source": [
    "import pandas as pd\n",
    "import numpy as np\n",
    "import seaborn as sns\n",
    "import matplotlib.pyplot as plt\n",
    "import matplotlib"
   ]
  },
  {
   "cell_type": "code",
   "execution_count": 2,
   "id": "9ffee7c7-fc4c-4174-87c8-ba391d019210",
   "metadata": {},
   "outputs": [],
   "source": [
    "df=sns.load_dataset('diamonds')\n",
    "\n",
    "df.head()\n",
    "\n",
    "df = df.drop(columns=['cut', 'color', 'clarity'], axis=1)\n",
    "\n",
    "y = df[['price']]\n",
    "X = df.drop(columns='price', axis=1)\n",
    "\n",
    "\n",
    "from sklearn.model_selection import train_test_split\n",
    "\n",
    "X_train, X_test, y_train, y_test = train_test_split(X,y, test_size=0.2, random_state=123)"
   ]
  },
  {
   "cell_type": "markdown",
   "id": "264c9325-16de-482c-81a3-1dc2350fb7f1",
   "metadata": {},
   "source": [
    "# Ridge"
   ]
  },
  {
   "cell_type": "code",
   "execution_count": 3,
   "id": "6277aab9-e9ce-4bb6-aafe-a2a2138cfd77",
   "metadata": {},
   "outputs": [
    {
     "name": "stdout",
     "output_type": "stream",
     "text": [
      "MAE 893.7357844655229\n",
      "MSE 2250163.9757221057\n",
      "RMSE 1500.0546575782182\n",
      "R^2 0.8583095185454271\n"
     ]
    }
   ],
   "source": [
    "from sklearn.linear_model import Ridge\n",
    "from sklearn.metrics import r2_score, mean_absolute_error, mean_squared_error\n",
    "\n",
    "ridge = Ridge(random_state=123)\n",
    "ridge.fit(X_train, y_train)\n",
    "yhat = ridge.predict(X_test)\n",
    "print('MAE',mean_absolute_error(y_test, yhat))\n",
    "print('MSE',mean_squared_error(y_test, yhat))\n",
    "print('RMSE',np.sqrt(mean_squared_error(y_test, yhat)))\n",
    "print('R^2',r2_score(y_test, yhat))"
   ]
  },
  {
   "cell_type": "code",
   "execution_count": 4,
   "id": "f28bd5ec-3de7-4545-9676-4b745b0712e1",
   "metadata": {},
   "outputs": [
    {
     "data": {
      "text/plain": [
       "array([[10624.11261555,  -206.53212306,  -103.21677088, -1261.56914733,\n",
       "           43.96594879,    37.53627316]])"
      ]
     },
     "execution_count": 4,
     "metadata": {},
     "output_type": "execute_result"
    }
   ],
   "source": [
    "ridge.coef_"
   ]
  },
  {
   "cell_type": "code",
   "execution_count": 5,
   "id": "afd4e5b4-de29-49a0-b471-3683bc7938c3",
   "metadata": {},
   "outputs": [
    {
     "data": {
      "text/plain": [
       "array([20985.05825266])"
      ]
     },
     "execution_count": 5,
     "metadata": {},
     "output_type": "execute_result"
    }
   ],
   "source": [
    "ridge.intercept_"
   ]
  },
  {
   "cell_type": "markdown",
   "id": "26f4b9ae-55ce-4080-921b-410c99399c52",
   "metadata": {},
   "source": [
    "## 데이터 StandardScaler 적용한 후 Ridge"
   ]
  },
  {
   "cell_type": "code",
   "execution_count": 6,
   "id": "416cd58b-2049-47ac-a79e-4da9047d83ea",
   "metadata": {},
   "outputs": [],
   "source": [
    "from sklearn.preprocessing import StandardScaler\n",
    "ss = StandardScaler()\n",
    "X_ss = ss.fit_transform(X)\n",
    "\n",
    "X_train, X_test, y_train, y_test = train_test_split(X_ss,y, test_size=0.2, random_state=123)"
   ]
  },
  {
   "cell_type": "code",
   "execution_count": 7,
   "id": "b7f36b22-1183-4f7c-8c58-21ec93e4b39b",
   "metadata": {},
   "outputs": [
    {
     "name": "stdout",
     "output_type": "stream",
     "text": [
      "MAE 893.3195247881577\n",
      "MSE 2250091.2559689907\n",
      "RMSE 1500.030418347905\n",
      "R^2 0.8583140976325254\n"
     ]
    }
   ],
   "source": [
    "ridge = Ridge(random_state=123)\n",
    "ridge.fit(X_train, y_train)\n",
    "yhat = ridge.predict(X_test)\n",
    "print('MAE',mean_absolute_error(y_test, yhat))\n",
    "print('MSE',mean_squared_error(y_test, yhat))\n",
    "print('RMSE',np.sqrt(mean_squared_error(y_test, yhat)))\n",
    "print('R^2',r2_score(y_test, yhat))"
   ]
  },
  {
   "cell_type": "markdown",
   "id": "dc689caa-554a-401a-bb57-f0a7a5ea8c9b",
   "metadata": {},
   "source": [
    "# Lasso"
   ]
  },
  {
   "cell_type": "code",
   "execution_count": 8,
   "id": "84618f72-39f7-45ed-be7c-5257c41ea007",
   "metadata": {},
   "outputs": [],
   "source": [
    "df=sns.load_dataset('diamonds')\n",
    "\n",
    "df.head()\n",
    "\n",
    "df = df.drop(columns=['cut', 'color', 'clarity'], axis=1)\n",
    "\n",
    "y = df[['price']]\n",
    "X = df.drop(columns='price', axis=1)\n",
    "\n",
    "\n",
    "from sklearn.model_selection import train_test_split\n",
    "\n",
    "X_train, X_test, y_train, y_test = train_test_split(X,y, test_size=0.2, random_state=123)"
   ]
  },
  {
   "cell_type": "code",
   "execution_count": 9,
   "id": "db9a8a8f-ffa3-4b6f-af31-28491e6dc33a",
   "metadata": {},
   "outputs": [
    {
     "name": "stdout",
     "output_type": "stream",
     "text": [
      "MAE 35290.15360150345\n",
      "MSE 1255931680.5613403\n",
      "RMSE 35439.12640798783\n",
      "R^2 -78.08470956463498\n"
     ]
    },
    {
     "name": "stderr",
     "output_type": "stream",
     "text": [
      "C:\\Users\\admin\\AppData\\Roaming\\Python\\Python310\\site-packages\\sklearn\\base.py:486: UserWarning: X has feature names, but Ridge was fitted without feature names\n",
      "  warnings.warn(\n"
     ]
    }
   ],
   "source": [
    "from sklearn.linear_model import Lasso\n",
    "from sklearn.metrics import r2_score, mean_absolute_error, mean_squared_error\n",
    "\n",
    "lasso = Lasso(random_state=123)\n",
    "lasso.fit(X_train, y_train)\n",
    "yhat = ridge.predict(X_test)\n",
    "print('MAE',mean_absolute_error(y_test, yhat))\n",
    "print('MSE',mean_squared_error(y_test, yhat))\n",
    "print('RMSE',np.sqrt(mean_squared_error(y_test, yhat)))\n",
    "print('R^2',r2_score(y_test, yhat))"
   ]
  },
  {
   "cell_type": "markdown",
   "id": "bb7fe01f-24a1-4956-83c3-8f9482e5557d",
   "metadata": {},
   "source": [
    "# ElasticNet"
   ]
  },
  {
   "cell_type": "code",
   "execution_count": 10,
   "id": "f0dc382f-7811-41bf-8a60-60a2ffafc956",
   "metadata": {},
   "outputs": [],
   "source": [
    "df=sns.load_dataset('diamonds')\n",
    "\n",
    "df.head()\n",
    "\n",
    "df = df.drop(columns=['cut', 'color', 'clarity'], axis=1)\n",
    "\n",
    "y = df[['price']]\n",
    "X = df.drop(columns='price', axis=1)\n",
    "\n",
    "\n",
    "from sklearn.model_selection import train_test_split\n",
    "\n",
    "X_train, X_test, y_train, y_test = train_test_split(X,y, test_size=0.2, random_state=123)"
   ]
  },
  {
   "cell_type": "code",
   "execution_count": 11,
   "id": "c1920694-8191-4b13-bbcb-d4c8856d3abe",
   "metadata": {},
   "outputs": [
    {
     "name": "stdout",
     "output_type": "stream",
     "text": [
      "MAE 1259.0451439860976\n",
      "MSE 3468173.6559129274\n",
      "RMSE 1862.303320061726\n",
      "R^2 0.7816127178390766\n"
     ]
    }
   ],
   "source": [
    "from sklearn.linear_model import ElasticNet\n",
    "from sklearn.metrics import r2_score, mean_absolute_error, mean_squared_error\n",
    "\n",
    "en = ElasticNet(random_state=123)\n",
    "en.fit(X_train, y_train)\n",
    "yhat = en.predict(X_test)\n",
    "print('MAE',mean_absolute_error(y_test, yhat))\n",
    "print('MSE',mean_squared_error(y_test, yhat))\n",
    "print('RMSE',np.sqrt(mean_squared_error(y_test, yhat)))\n",
    "print('R^2',r2_score(y_test, yhat))"
   ]
  },
  {
   "cell_type": "code",
   "execution_count": null,
   "id": "5ae0e2f3-2bc0-4be9-bd89-0dac4dca4f43",
   "metadata": {},
   "outputs": [],
   "source": []
  },
  {
   "cell_type": "code",
   "execution_count": null,
   "id": "a3793c27-4746-41b0-adf0-03dbc63a337e",
   "metadata": {},
   "outputs": [],
   "source": []
  },
  {
   "cell_type": "code",
   "execution_count": null,
   "id": "6ceef0f2-6c17-4322-9a17-aa0d28134624",
   "metadata": {},
   "outputs": [],
   "source": []
  },
  {
   "cell_type": "code",
   "execution_count": null,
   "id": "81c04197-2882-4b88-b277-4220755f82b9",
   "metadata": {},
   "outputs": [],
   "source": []
  },
  {
   "cell_type": "code",
   "execution_count": null,
   "id": "561d2715-0110-41d6-8f4a-3183f43df636",
   "metadata": {},
   "outputs": [],
   "source": []
  },
  {
   "cell_type": "code",
   "execution_count": null,
   "id": "a5fefacb-14d1-4cc3-9a1b-9563574a7fab",
   "metadata": {},
   "outputs": [],
   "source": []
  },
  {
   "cell_type": "code",
   "execution_count": null,
   "id": "88d5ad27-e3df-4a8c-ba7d-fafbe3445779",
   "metadata": {},
   "outputs": [],
   "source": []
  },
  {
   "cell_type": "code",
   "execution_count": null,
   "id": "7e2d8eee-ac29-4329-8340-03f6857b2d2b",
   "metadata": {},
   "outputs": [],
   "source": []
  },
  {
   "cell_type": "code",
   "execution_count": null,
   "id": "8439fb78-c76d-440e-a587-a8ca3f911b54",
   "metadata": {},
   "outputs": [],
   "source": []
  },
  {
   "cell_type": "code",
   "execution_count": null,
   "id": "4fa63fd6-d070-4059-b9d3-d1ede2eb99bc",
   "metadata": {},
   "outputs": [],
   "source": []
  },
  {
   "cell_type": "code",
   "execution_count": null,
   "id": "5a18035f-54ac-49d2-b90b-6a20bd86fd21",
   "metadata": {},
   "outputs": [],
   "source": []
  },
  {
   "cell_type": "code",
   "execution_count": null,
   "id": "f7535255-0694-4c7c-83f4-1a3ac0fa2d9d",
   "metadata": {},
   "outputs": [],
   "source": []
  },
  {
   "cell_type": "code",
   "execution_count": null,
   "id": "cef03da7-c864-4c95-ac84-580ae780b1f9",
   "metadata": {},
   "outputs": [],
   "source": []
  },
  {
   "cell_type": "code",
   "execution_count": null,
   "id": "5e5a05c0-9490-4ae0-bcf3-6a3d27df6fb0",
   "metadata": {},
   "outputs": [],
   "source": []
  }
 ],
 "metadata": {
  "kernelspec": {
   "display_name": "Python 3 (ipykernel)",
   "language": "python",
   "name": "python3"
  },
  "language_info": {
   "codemirror_mode": {
    "name": "ipython",
    "version": 3
   },
   "file_extension": ".py",
   "mimetype": "text/x-python",
   "name": "python",
   "nbconvert_exporter": "python",
   "pygments_lexer": "ipython3",
   "version": "3.10.11"
  }
 },
 "nbformat": 4,
 "nbformat_minor": 5
}
